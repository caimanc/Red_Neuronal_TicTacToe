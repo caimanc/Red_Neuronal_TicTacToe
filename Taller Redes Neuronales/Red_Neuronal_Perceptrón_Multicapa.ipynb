{
  "nbformat": 4,
  "nbformat_minor": 0,
  "metadata": {
    "colab": {
      "provenance": [],
      "collapsed_sections": []
    },
    "kernelspec": {
      "name": "python3",
      "display_name": "Python 3"
    },
    "language_info": {
      "name": "python"
    }
  },
  "cells": [
    {
      "cell_type": "markdown",
      "source": [
        "# Implementación sencilla de Red Neuronal con Sklearn\n",
        "\n",
        "Las **redes neuronales** son modelos creados al ordenar operaciones matemáticas siguiendo una determinada estructura.\n",
        "\n",
        "Diego Lizarazo\n"
      ],
      "metadata": {
        "id": "8K341rgYxoMp"
      }
    },
    {
      "cell_type": "markdown",
      "source": [
        "# Recolección de información"
      ],
      "metadata": {
        "id": "brWG5mnxx0Vt"
      }
    },
    {
      "cell_type": "markdown",
      "source": [
        "Para este ejercicio vamos a implementar un conjunto de información sencillo y fácil de entender denominado **Iris**.\n",
        "\n",
        "El Iris Dataset contiene cuatro características (largo y ancho de sépalos y pétalos) de 50 muestras de tres especies de Iris (Iris setosa, Iris virginica e Iris versicolor).\n",
        "\n",
        "Se puede encontrar facilmente por la web pero para facilidad lo vamos a insertar como una url que contiene un archivo .csv.\n",
        "\n",
        "No obstante, utilizaremos conceptos básicos de la librería `Pandas` y `NumpY` para la manipulación de la información"
      ],
      "metadata": {
        "id": "_XwFftEu5CNZ"
      }
    },
    {
      "cell_type": "code",
      "source": [
        "# Importación de la librería pandas con su acrónimo\n",
        "import pandas as pd\n",
        "import numpy as np"
      ],
      "metadata": {
        "id": "b45RQ0nf53d7"
      },
      "execution_count": 232,
      "outputs": []
    },
    {
      "cell_type": "code",
      "source": [
        "from google.colab import drive\n",
        "drive.mount('/content/drive')"
      ],
      "metadata": {
        "colab": {
          "base_uri": "https://localhost:8080/"
        },
        "id": "jYm20G_2MSgG",
        "outputId": "da324bc3-4087-4f7b-d265-eddb30787f53"
      },
      "execution_count": 233,
      "outputs": [
        {
          "output_type": "stream",
          "name": "stdout",
          "text": [
            "Drive already mounted at /content/drive; to attempt to forcibly remount, call drive.mount(\"/content/drive\", force_remount=True).\n"
          ]
        }
      ]
    },
    {
      "cell_type": "code",
      "source": [
        "# Carga de datos y visualuzación del header\n",
        "df = pd.read_csv(\"/content/drive/MyDrive/2022-3/IA2/ia2/tareas/redes neuronales/TICTAC.csv\")\n",
        "df.head()"
      ],
      "metadata": {
        "colab": {
          "base_uri": "https://localhost:8080/",
          "height": 206
        },
        "id": "vl0i_GeTxro3",
        "outputId": "61e3b9d2-3706-4e51-fad2-9cf76446eda5"
      },
      "execution_count": 234,
      "outputs": [
        {
          "output_type": "execute_result",
          "data": {
            "text/plain": [
              "   1  2  3  4  5  6  7  8  9 resultado\n",
              "0  x  x  x  x  o  o  x  o  o  positive\n",
              "1  x  x  x  x  o  o  o  x  o  positive\n",
              "2  x  x  x  x  o  o  o  o  x  positive\n",
              "3  x  x  x  x  o  o  o  b  b  positive\n",
              "4  x  x  x  x  o  o  b  o  b  positive"
            ],
            "text/html": [
              "\n",
              "  <div id=\"df-922bc15f-bdaa-428f-a249-85126e6c583a\">\n",
              "    <div class=\"colab-df-container\">\n",
              "      <div>\n",
              "<style scoped>\n",
              "    .dataframe tbody tr th:only-of-type {\n",
              "        vertical-align: middle;\n",
              "    }\n",
              "\n",
              "    .dataframe tbody tr th {\n",
              "        vertical-align: top;\n",
              "    }\n",
              "\n",
              "    .dataframe thead th {\n",
              "        text-align: right;\n",
              "    }\n",
              "</style>\n",
              "<table border=\"1\" class=\"dataframe\">\n",
              "  <thead>\n",
              "    <tr style=\"text-align: right;\">\n",
              "      <th></th>\n",
              "      <th>1</th>\n",
              "      <th>2</th>\n",
              "      <th>3</th>\n",
              "      <th>4</th>\n",
              "      <th>5</th>\n",
              "      <th>6</th>\n",
              "      <th>7</th>\n",
              "      <th>8</th>\n",
              "      <th>9</th>\n",
              "      <th>resultado</th>\n",
              "    </tr>\n",
              "  </thead>\n",
              "  <tbody>\n",
              "    <tr>\n",
              "      <th>0</th>\n",
              "      <td>x</td>\n",
              "      <td>x</td>\n",
              "      <td>x</td>\n",
              "      <td>x</td>\n",
              "      <td>o</td>\n",
              "      <td>o</td>\n",
              "      <td>x</td>\n",
              "      <td>o</td>\n",
              "      <td>o</td>\n",
              "      <td>positive</td>\n",
              "    </tr>\n",
              "    <tr>\n",
              "      <th>1</th>\n",
              "      <td>x</td>\n",
              "      <td>x</td>\n",
              "      <td>x</td>\n",
              "      <td>x</td>\n",
              "      <td>o</td>\n",
              "      <td>o</td>\n",
              "      <td>o</td>\n",
              "      <td>x</td>\n",
              "      <td>o</td>\n",
              "      <td>positive</td>\n",
              "    </tr>\n",
              "    <tr>\n",
              "      <th>2</th>\n",
              "      <td>x</td>\n",
              "      <td>x</td>\n",
              "      <td>x</td>\n",
              "      <td>x</td>\n",
              "      <td>o</td>\n",
              "      <td>o</td>\n",
              "      <td>o</td>\n",
              "      <td>o</td>\n",
              "      <td>x</td>\n",
              "      <td>positive</td>\n",
              "    </tr>\n",
              "    <tr>\n",
              "      <th>3</th>\n",
              "      <td>x</td>\n",
              "      <td>x</td>\n",
              "      <td>x</td>\n",
              "      <td>x</td>\n",
              "      <td>o</td>\n",
              "      <td>o</td>\n",
              "      <td>o</td>\n",
              "      <td>b</td>\n",
              "      <td>b</td>\n",
              "      <td>positive</td>\n",
              "    </tr>\n",
              "    <tr>\n",
              "      <th>4</th>\n",
              "      <td>x</td>\n",
              "      <td>x</td>\n",
              "      <td>x</td>\n",
              "      <td>x</td>\n",
              "      <td>o</td>\n",
              "      <td>o</td>\n",
              "      <td>b</td>\n",
              "      <td>o</td>\n",
              "      <td>b</td>\n",
              "      <td>positive</td>\n",
              "    </tr>\n",
              "  </tbody>\n",
              "</table>\n",
              "</div>\n",
              "      <button class=\"colab-df-convert\" onclick=\"convertToInteractive('df-922bc15f-bdaa-428f-a249-85126e6c583a')\"\n",
              "              title=\"Convert this dataframe to an interactive table.\"\n",
              "              style=\"display:none;\">\n",
              "        \n",
              "  <svg xmlns=\"http://www.w3.org/2000/svg\" height=\"24px\"viewBox=\"0 0 24 24\"\n",
              "       width=\"24px\">\n",
              "    <path d=\"M0 0h24v24H0V0z\" fill=\"none\"/>\n",
              "    <path d=\"M18.56 5.44l.94 2.06.94-2.06 2.06-.94-2.06-.94-.94-2.06-.94 2.06-2.06.94zm-11 1L8.5 8.5l.94-2.06 2.06-.94-2.06-.94L8.5 2.5l-.94 2.06-2.06.94zm10 10l.94 2.06.94-2.06 2.06-.94-2.06-.94-.94-2.06-.94 2.06-2.06.94z\"/><path d=\"M17.41 7.96l-1.37-1.37c-.4-.4-.92-.59-1.43-.59-.52 0-1.04.2-1.43.59L10.3 9.45l-7.72 7.72c-.78.78-.78 2.05 0 2.83L4 21.41c.39.39.9.59 1.41.59.51 0 1.02-.2 1.41-.59l7.78-7.78 2.81-2.81c.8-.78.8-2.07 0-2.86zM5.41 20L4 18.59l7.72-7.72 1.47 1.35L5.41 20z\"/>\n",
              "  </svg>\n",
              "      </button>\n",
              "      \n",
              "  <style>\n",
              "    .colab-df-container {\n",
              "      display:flex;\n",
              "      flex-wrap:wrap;\n",
              "      gap: 12px;\n",
              "    }\n",
              "\n",
              "    .colab-df-convert {\n",
              "      background-color: #E8F0FE;\n",
              "      border: none;\n",
              "      border-radius: 50%;\n",
              "      cursor: pointer;\n",
              "      display: none;\n",
              "      fill: #1967D2;\n",
              "      height: 32px;\n",
              "      padding: 0 0 0 0;\n",
              "      width: 32px;\n",
              "    }\n",
              "\n",
              "    .colab-df-convert:hover {\n",
              "      background-color: #E2EBFA;\n",
              "      box-shadow: 0px 1px 2px rgba(60, 64, 67, 0.3), 0px 1px 3px 1px rgba(60, 64, 67, 0.15);\n",
              "      fill: #174EA6;\n",
              "    }\n",
              "\n",
              "    [theme=dark] .colab-df-convert {\n",
              "      background-color: #3B4455;\n",
              "      fill: #D2E3FC;\n",
              "    }\n",
              "\n",
              "    [theme=dark] .colab-df-convert:hover {\n",
              "      background-color: #434B5C;\n",
              "      box-shadow: 0px 1px 3px 1px rgba(0, 0, 0, 0.15);\n",
              "      filter: drop-shadow(0px 1px 2px rgba(0, 0, 0, 0.3));\n",
              "      fill: #FFFFFF;\n",
              "    }\n",
              "  </style>\n",
              "\n",
              "      <script>\n",
              "        const buttonEl =\n",
              "          document.querySelector('#df-922bc15f-bdaa-428f-a249-85126e6c583a button.colab-df-convert');\n",
              "        buttonEl.style.display =\n",
              "          google.colab.kernel.accessAllowed ? 'block' : 'none';\n",
              "\n",
              "        async function convertToInteractive(key) {\n",
              "          const element = document.querySelector('#df-922bc15f-bdaa-428f-a249-85126e6c583a');\n",
              "          const dataTable =\n",
              "            await google.colab.kernel.invokeFunction('convertToInteractive',\n",
              "                                                     [key], {});\n",
              "          if (!dataTable) return;\n",
              "\n",
              "          const docLinkHtml = 'Like what you see? Visit the ' +\n",
              "            '<a target=\"_blank\" href=https://colab.research.google.com/notebooks/data_table.ipynb>data table notebook</a>'\n",
              "            + ' to learn more about interactive tables.';\n",
              "          element.innerHTML = '';\n",
              "          dataTable['output_type'] = 'display_data';\n",
              "          await google.colab.output.renderOutput(dataTable, element);\n",
              "          const docLink = document.createElement('div');\n",
              "          docLink.innerHTML = docLinkHtml;\n",
              "          element.appendChild(docLink);\n",
              "        }\n",
              "      </script>\n",
              "    </div>\n",
              "  </div>\n",
              "  "
            ]
          },
          "metadata": {},
          "execution_count": 234
        }
      ]
    },
    {
      "cell_type": "code",
      "source": [
        "# Información básica del conjunto (comprobar que no hay datos existentes y tipo de variables)\n",
        "df.info()"
      ],
      "metadata": {
        "id": "q7etz3Nhx64G",
        "colab": {
          "base_uri": "https://localhost:8080/"
        },
        "outputId": "999e5656-86bb-40b5-93a0-21729e7faf5c"
      },
      "execution_count": 235,
      "outputs": [
        {
          "output_type": "stream",
          "name": "stdout",
          "text": [
            "<class 'pandas.core.frame.DataFrame'>\n",
            "RangeIndex: 958 entries, 0 to 957\n",
            "Data columns (total 10 columns):\n",
            " #   Column     Non-Null Count  Dtype \n",
            "---  ------     --------------  ----- \n",
            " 0   1          958 non-null    object\n",
            " 1   2          958 non-null    object\n",
            " 2   3          958 non-null    object\n",
            " 3   4          958 non-null    object\n",
            " 4   5          958 non-null    object\n",
            " 5   6          958 non-null    object\n",
            " 6   7          958 non-null    object\n",
            " 7   8          958 non-null    object\n",
            " 8   9          958 non-null    object\n",
            " 9   resultado  958 non-null    object\n",
            "dtypes: object(10)\n",
            "memory usage: 75.0+ KB\n"
          ]
        }
      ]
    },
    {
      "cell_type": "markdown",
      "source": [
        "# Conjuntos de entrenamiento y testeo"
      ],
      "metadata": {
        "id": "F3dnYTY1ySvb"
      }
    },
    {
      "cell_type": "markdown",
      "source": [
        "Es indispensable dividir nuestro conjunto de información para que la Red Neuronal pueda aprender y reproducir. Esto normalmente se realiza con una proporción de 70%-30% ó 80%-20% (entrenamiento - testeo).\n",
        "\n",
        "La librería función `train_test_split` de `sklearn.model_selection` nos permitirá dividir y estratificarlo mediante la variable objetivo para una proporción entre estas."
      ],
      "metadata": {
        "id": "xMXSY14PyXrF"
      }
    },
    {
      "cell_type": "markdown",
      "source": [
        "Primero separamos la información, es decir, extraer las etiquetas en un subconjunto diferente, lo denominaremos **Y**.\n",
        "El conjunto de atributos lo denominaremos **x**"
      ],
      "metadata": {
        "id": "8AZ4iTYazEyP"
      }
    },
    {
      "cell_type": "code",
      "source": [
        "# Se selecciona solamente la columna objetivo\n",
        "y = df['resultado']\n",
        "y"
      ],
      "metadata": {
        "colab": {
          "base_uri": "https://localhost:8080/"
        },
        "id": "0VhL1evCzYVo",
        "outputId": "f7893c83-3606-41bd-bbba-567501e97ad7"
      },
      "execution_count": 236,
      "outputs": [
        {
          "output_type": "execute_result",
          "data": {
            "text/plain": [
              "0      positive\n",
              "1      positive\n",
              "2      positive\n",
              "3      positive\n",
              "4      positive\n",
              "         ...   \n",
              "953    negative\n",
              "954    negative\n",
              "955    negative\n",
              "956    negative\n",
              "957    negative\n",
              "Name: resultado, Length: 958, dtype: object"
            ]
          },
          "metadata": {},
          "execution_count": 236
        }
      ]
    },
    {
      "cell_type": "code",
      "source": [
        "df.value_counts('resultado')\n"
      ],
      "metadata": {
        "colab": {
          "base_uri": "https://localhost:8080/"
        },
        "id": "axebr1lxcN7g",
        "outputId": "75a4491c-502d-4860-a087-ae2e191a1642"
      },
      "execution_count": 237,
      "outputs": [
        {
          "output_type": "execute_result",
          "data": {
            "text/plain": [
              "resultado\n",
              "positive    626\n",
              "negative    332\n",
              "dtype: int64"
            ]
          },
          "metadata": {},
          "execution_count": 237
        }
      ]
    },
    {
      "cell_type": "code",
      "source": [
        "# Se selecciona el DataFrame complejo sin la columba objetivo\n",
        "X = df.drop(['resultado'], axis=1)\n",
        "X"
      ],
      "metadata": {
        "colab": {
          "base_uri": "https://localhost:8080/",
          "height": 424
        },
        "id": "7AASlioCzc1A",
        "outputId": "9a692ecb-72d0-410d-8130-04b1a928ddd9"
      },
      "execution_count": 238,
      "outputs": [
        {
          "output_type": "execute_result",
          "data": {
            "text/plain": [
              "     1  2  3  4  5  6  7  8  9\n",
              "0    x  x  x  x  o  o  x  o  o\n",
              "1    x  x  x  x  o  o  o  x  o\n",
              "2    x  x  x  x  o  o  o  o  x\n",
              "3    x  x  x  x  o  o  o  b  b\n",
              "4    x  x  x  x  o  o  b  o  b\n",
              "..  .. .. .. .. .. .. .. .. ..\n",
              "953  o  x  x  x  o  o  o  x  x\n",
              "954  o  x  o  x  x  o  x  o  x\n",
              "955  o  x  o  x  o  x  x  o  x\n",
              "956  o  x  o  o  x  x  x  o  x\n",
              "957  o  o  x  x  x  o  o  x  x\n",
              "\n",
              "[958 rows x 9 columns]"
            ],
            "text/html": [
              "\n",
              "  <div id=\"df-48ba4df9-73a0-4656-83f3-243be4774642\">\n",
              "    <div class=\"colab-df-container\">\n",
              "      <div>\n",
              "<style scoped>\n",
              "    .dataframe tbody tr th:only-of-type {\n",
              "        vertical-align: middle;\n",
              "    }\n",
              "\n",
              "    .dataframe tbody tr th {\n",
              "        vertical-align: top;\n",
              "    }\n",
              "\n",
              "    .dataframe thead th {\n",
              "        text-align: right;\n",
              "    }\n",
              "</style>\n",
              "<table border=\"1\" class=\"dataframe\">\n",
              "  <thead>\n",
              "    <tr style=\"text-align: right;\">\n",
              "      <th></th>\n",
              "      <th>1</th>\n",
              "      <th>2</th>\n",
              "      <th>3</th>\n",
              "      <th>4</th>\n",
              "      <th>5</th>\n",
              "      <th>6</th>\n",
              "      <th>7</th>\n",
              "      <th>8</th>\n",
              "      <th>9</th>\n",
              "    </tr>\n",
              "  </thead>\n",
              "  <tbody>\n",
              "    <tr>\n",
              "      <th>0</th>\n",
              "      <td>x</td>\n",
              "      <td>x</td>\n",
              "      <td>x</td>\n",
              "      <td>x</td>\n",
              "      <td>o</td>\n",
              "      <td>o</td>\n",
              "      <td>x</td>\n",
              "      <td>o</td>\n",
              "      <td>o</td>\n",
              "    </tr>\n",
              "    <tr>\n",
              "      <th>1</th>\n",
              "      <td>x</td>\n",
              "      <td>x</td>\n",
              "      <td>x</td>\n",
              "      <td>x</td>\n",
              "      <td>o</td>\n",
              "      <td>o</td>\n",
              "      <td>o</td>\n",
              "      <td>x</td>\n",
              "      <td>o</td>\n",
              "    </tr>\n",
              "    <tr>\n",
              "      <th>2</th>\n",
              "      <td>x</td>\n",
              "      <td>x</td>\n",
              "      <td>x</td>\n",
              "      <td>x</td>\n",
              "      <td>o</td>\n",
              "      <td>o</td>\n",
              "      <td>o</td>\n",
              "      <td>o</td>\n",
              "      <td>x</td>\n",
              "    </tr>\n",
              "    <tr>\n",
              "      <th>3</th>\n",
              "      <td>x</td>\n",
              "      <td>x</td>\n",
              "      <td>x</td>\n",
              "      <td>x</td>\n",
              "      <td>o</td>\n",
              "      <td>o</td>\n",
              "      <td>o</td>\n",
              "      <td>b</td>\n",
              "      <td>b</td>\n",
              "    </tr>\n",
              "    <tr>\n",
              "      <th>4</th>\n",
              "      <td>x</td>\n",
              "      <td>x</td>\n",
              "      <td>x</td>\n",
              "      <td>x</td>\n",
              "      <td>o</td>\n",
              "      <td>o</td>\n",
              "      <td>b</td>\n",
              "      <td>o</td>\n",
              "      <td>b</td>\n",
              "    </tr>\n",
              "    <tr>\n",
              "      <th>...</th>\n",
              "      <td>...</td>\n",
              "      <td>...</td>\n",
              "      <td>...</td>\n",
              "      <td>...</td>\n",
              "      <td>...</td>\n",
              "      <td>...</td>\n",
              "      <td>...</td>\n",
              "      <td>...</td>\n",
              "      <td>...</td>\n",
              "    </tr>\n",
              "    <tr>\n",
              "      <th>953</th>\n",
              "      <td>o</td>\n",
              "      <td>x</td>\n",
              "      <td>x</td>\n",
              "      <td>x</td>\n",
              "      <td>o</td>\n",
              "      <td>o</td>\n",
              "      <td>o</td>\n",
              "      <td>x</td>\n",
              "      <td>x</td>\n",
              "    </tr>\n",
              "    <tr>\n",
              "      <th>954</th>\n",
              "      <td>o</td>\n",
              "      <td>x</td>\n",
              "      <td>o</td>\n",
              "      <td>x</td>\n",
              "      <td>x</td>\n",
              "      <td>o</td>\n",
              "      <td>x</td>\n",
              "      <td>o</td>\n",
              "      <td>x</td>\n",
              "    </tr>\n",
              "    <tr>\n",
              "      <th>955</th>\n",
              "      <td>o</td>\n",
              "      <td>x</td>\n",
              "      <td>o</td>\n",
              "      <td>x</td>\n",
              "      <td>o</td>\n",
              "      <td>x</td>\n",
              "      <td>x</td>\n",
              "      <td>o</td>\n",
              "      <td>x</td>\n",
              "    </tr>\n",
              "    <tr>\n",
              "      <th>956</th>\n",
              "      <td>o</td>\n",
              "      <td>x</td>\n",
              "      <td>o</td>\n",
              "      <td>o</td>\n",
              "      <td>x</td>\n",
              "      <td>x</td>\n",
              "      <td>x</td>\n",
              "      <td>o</td>\n",
              "      <td>x</td>\n",
              "    </tr>\n",
              "    <tr>\n",
              "      <th>957</th>\n",
              "      <td>o</td>\n",
              "      <td>o</td>\n",
              "      <td>x</td>\n",
              "      <td>x</td>\n",
              "      <td>x</td>\n",
              "      <td>o</td>\n",
              "      <td>o</td>\n",
              "      <td>x</td>\n",
              "      <td>x</td>\n",
              "    </tr>\n",
              "  </tbody>\n",
              "</table>\n",
              "<p>958 rows × 9 columns</p>\n",
              "</div>\n",
              "      <button class=\"colab-df-convert\" onclick=\"convertToInteractive('df-48ba4df9-73a0-4656-83f3-243be4774642')\"\n",
              "              title=\"Convert this dataframe to an interactive table.\"\n",
              "              style=\"display:none;\">\n",
              "        \n",
              "  <svg xmlns=\"http://www.w3.org/2000/svg\" height=\"24px\"viewBox=\"0 0 24 24\"\n",
              "       width=\"24px\">\n",
              "    <path d=\"M0 0h24v24H0V0z\" fill=\"none\"/>\n",
              "    <path d=\"M18.56 5.44l.94 2.06.94-2.06 2.06-.94-2.06-.94-.94-2.06-.94 2.06-2.06.94zm-11 1L8.5 8.5l.94-2.06 2.06-.94-2.06-.94L8.5 2.5l-.94 2.06-2.06.94zm10 10l.94 2.06.94-2.06 2.06-.94-2.06-.94-.94-2.06-.94 2.06-2.06.94z\"/><path d=\"M17.41 7.96l-1.37-1.37c-.4-.4-.92-.59-1.43-.59-.52 0-1.04.2-1.43.59L10.3 9.45l-7.72 7.72c-.78.78-.78 2.05 0 2.83L4 21.41c.39.39.9.59 1.41.59.51 0 1.02-.2 1.41-.59l7.78-7.78 2.81-2.81c.8-.78.8-2.07 0-2.86zM5.41 20L4 18.59l7.72-7.72 1.47 1.35L5.41 20z\"/>\n",
              "  </svg>\n",
              "      </button>\n",
              "      \n",
              "  <style>\n",
              "    .colab-df-container {\n",
              "      display:flex;\n",
              "      flex-wrap:wrap;\n",
              "      gap: 12px;\n",
              "    }\n",
              "\n",
              "    .colab-df-convert {\n",
              "      background-color: #E8F0FE;\n",
              "      border: none;\n",
              "      border-radius: 50%;\n",
              "      cursor: pointer;\n",
              "      display: none;\n",
              "      fill: #1967D2;\n",
              "      height: 32px;\n",
              "      padding: 0 0 0 0;\n",
              "      width: 32px;\n",
              "    }\n",
              "\n",
              "    .colab-df-convert:hover {\n",
              "      background-color: #E2EBFA;\n",
              "      box-shadow: 0px 1px 2px rgba(60, 64, 67, 0.3), 0px 1px 3px 1px rgba(60, 64, 67, 0.15);\n",
              "      fill: #174EA6;\n",
              "    }\n",
              "\n",
              "    [theme=dark] .colab-df-convert {\n",
              "      background-color: #3B4455;\n",
              "      fill: #D2E3FC;\n",
              "    }\n",
              "\n",
              "    [theme=dark] .colab-df-convert:hover {\n",
              "      background-color: #434B5C;\n",
              "      box-shadow: 0px 1px 3px 1px rgba(0, 0, 0, 0.15);\n",
              "      filter: drop-shadow(0px 1px 2px rgba(0, 0, 0, 0.3));\n",
              "      fill: #FFFFFF;\n",
              "    }\n",
              "  </style>\n",
              "\n",
              "      <script>\n",
              "        const buttonEl =\n",
              "          document.querySelector('#df-48ba4df9-73a0-4656-83f3-243be4774642 button.colab-df-convert');\n",
              "        buttonEl.style.display =\n",
              "          google.colab.kernel.accessAllowed ? 'block' : 'none';\n",
              "\n",
              "        async function convertToInteractive(key) {\n",
              "          const element = document.querySelector('#df-48ba4df9-73a0-4656-83f3-243be4774642');\n",
              "          const dataTable =\n",
              "            await google.colab.kernel.invokeFunction('convertToInteractive',\n",
              "                                                     [key], {});\n",
              "          if (!dataTable) return;\n",
              "\n",
              "          const docLinkHtml = 'Like what you see? Visit the ' +\n",
              "            '<a target=\"_blank\" href=https://colab.research.google.com/notebooks/data_table.ipynb>data table notebook</a>'\n",
              "            + ' to learn more about interactive tables.';\n",
              "          element.innerHTML = '';\n",
              "          dataTable['output_type'] = 'display_data';\n",
              "          await google.colab.output.renderOutput(dataTable, element);\n",
              "          const docLink = document.createElement('div');\n",
              "          docLink.innerHTML = docLinkHtml;\n",
              "          element.appendChild(docLink);\n",
              "        }\n",
              "      </script>\n",
              "    </div>\n",
              "  </div>\n",
              "  "
            ]
          },
          "metadata": {},
          "execution_count": 238
        }
      ]
    },
    {
      "cell_type": "markdown",
      "source": [
        "Realizamos la separación"
      ],
      "metadata": {
        "id": "Di70ckNOzot7"
      }
    },
    {
      "cell_type": "code",
      "source": [
        "# Llamado de la librería\n",
        "\n",
        "from sklearn.model_selection import train_test_split"
      ],
      "metadata": {
        "id": "P4qznJvTx_BU"
      },
      "execution_count": 239,
      "outputs": []
    },
    {
      "cell_type": "markdown",
      "source": [
        "Convertimos los valores a numerico"
      ],
      "metadata": {
        "id": "qpuuxKsrrXNu"
      }
    },
    {
      "cell_type": "code",
      "source": [
        "x_auxiliar=X.replace({\"o\": 0, \"x\": 1, \"b\": 2})"
      ],
      "metadata": {
        "id": "BwTATuctpNGN"
      },
      "execution_count": 240,
      "outputs": []
    },
    {
      "cell_type": "code",
      "source": [
        "x_auxiliar"
      ],
      "metadata": {
        "colab": {
          "base_uri": "https://localhost:8080/",
          "height": 424
        },
        "id": "jyfl6Z6aUtpH",
        "outputId": "4667636e-ee6e-4bea-a736-25f0acb89f72"
      },
      "execution_count": 241,
      "outputs": [
        {
          "output_type": "execute_result",
          "data": {
            "text/plain": [
              "     1  2  3  4  5  6  7  8  9\n",
              "0    1  1  1  1  0  0  1  0  0\n",
              "1    1  1  1  1  0  0  0  1  0\n",
              "2    1  1  1  1  0  0  0  0  1\n",
              "3    1  1  1  1  0  0  0  2  2\n",
              "4    1  1  1  1  0  0  2  0  2\n",
              "..  .. .. .. .. .. .. .. .. ..\n",
              "953  0  1  1  1  0  0  0  1  1\n",
              "954  0  1  0  1  1  0  1  0  1\n",
              "955  0  1  0  1  0  1  1  0  1\n",
              "956  0  1  0  0  1  1  1  0  1\n",
              "957  0  0  1  1  1  0  0  1  1\n",
              "\n",
              "[958 rows x 9 columns]"
            ],
            "text/html": [
              "\n",
              "  <div id=\"df-2486ecd6-d969-46b1-8eb5-7f2e1c6b4c7f\">\n",
              "    <div class=\"colab-df-container\">\n",
              "      <div>\n",
              "<style scoped>\n",
              "    .dataframe tbody tr th:only-of-type {\n",
              "        vertical-align: middle;\n",
              "    }\n",
              "\n",
              "    .dataframe tbody tr th {\n",
              "        vertical-align: top;\n",
              "    }\n",
              "\n",
              "    .dataframe thead th {\n",
              "        text-align: right;\n",
              "    }\n",
              "</style>\n",
              "<table border=\"1\" class=\"dataframe\">\n",
              "  <thead>\n",
              "    <tr style=\"text-align: right;\">\n",
              "      <th></th>\n",
              "      <th>1</th>\n",
              "      <th>2</th>\n",
              "      <th>3</th>\n",
              "      <th>4</th>\n",
              "      <th>5</th>\n",
              "      <th>6</th>\n",
              "      <th>7</th>\n",
              "      <th>8</th>\n",
              "      <th>9</th>\n",
              "    </tr>\n",
              "  </thead>\n",
              "  <tbody>\n",
              "    <tr>\n",
              "      <th>0</th>\n",
              "      <td>1</td>\n",
              "      <td>1</td>\n",
              "      <td>1</td>\n",
              "      <td>1</td>\n",
              "      <td>0</td>\n",
              "      <td>0</td>\n",
              "      <td>1</td>\n",
              "      <td>0</td>\n",
              "      <td>0</td>\n",
              "    </tr>\n",
              "    <tr>\n",
              "      <th>1</th>\n",
              "      <td>1</td>\n",
              "      <td>1</td>\n",
              "      <td>1</td>\n",
              "      <td>1</td>\n",
              "      <td>0</td>\n",
              "      <td>0</td>\n",
              "      <td>0</td>\n",
              "      <td>1</td>\n",
              "      <td>0</td>\n",
              "    </tr>\n",
              "    <tr>\n",
              "      <th>2</th>\n",
              "      <td>1</td>\n",
              "      <td>1</td>\n",
              "      <td>1</td>\n",
              "      <td>1</td>\n",
              "      <td>0</td>\n",
              "      <td>0</td>\n",
              "      <td>0</td>\n",
              "      <td>0</td>\n",
              "      <td>1</td>\n",
              "    </tr>\n",
              "    <tr>\n",
              "      <th>3</th>\n",
              "      <td>1</td>\n",
              "      <td>1</td>\n",
              "      <td>1</td>\n",
              "      <td>1</td>\n",
              "      <td>0</td>\n",
              "      <td>0</td>\n",
              "      <td>0</td>\n",
              "      <td>2</td>\n",
              "      <td>2</td>\n",
              "    </tr>\n",
              "    <tr>\n",
              "      <th>4</th>\n",
              "      <td>1</td>\n",
              "      <td>1</td>\n",
              "      <td>1</td>\n",
              "      <td>1</td>\n",
              "      <td>0</td>\n",
              "      <td>0</td>\n",
              "      <td>2</td>\n",
              "      <td>0</td>\n",
              "      <td>2</td>\n",
              "    </tr>\n",
              "    <tr>\n",
              "      <th>...</th>\n",
              "      <td>...</td>\n",
              "      <td>...</td>\n",
              "      <td>...</td>\n",
              "      <td>...</td>\n",
              "      <td>...</td>\n",
              "      <td>...</td>\n",
              "      <td>...</td>\n",
              "      <td>...</td>\n",
              "      <td>...</td>\n",
              "    </tr>\n",
              "    <tr>\n",
              "      <th>953</th>\n",
              "      <td>0</td>\n",
              "      <td>1</td>\n",
              "      <td>1</td>\n",
              "      <td>1</td>\n",
              "      <td>0</td>\n",
              "      <td>0</td>\n",
              "      <td>0</td>\n",
              "      <td>1</td>\n",
              "      <td>1</td>\n",
              "    </tr>\n",
              "    <tr>\n",
              "      <th>954</th>\n",
              "      <td>0</td>\n",
              "      <td>1</td>\n",
              "      <td>0</td>\n",
              "      <td>1</td>\n",
              "      <td>1</td>\n",
              "      <td>0</td>\n",
              "      <td>1</td>\n",
              "      <td>0</td>\n",
              "      <td>1</td>\n",
              "    </tr>\n",
              "    <tr>\n",
              "      <th>955</th>\n",
              "      <td>0</td>\n",
              "      <td>1</td>\n",
              "      <td>0</td>\n",
              "      <td>1</td>\n",
              "      <td>0</td>\n",
              "      <td>1</td>\n",
              "      <td>1</td>\n",
              "      <td>0</td>\n",
              "      <td>1</td>\n",
              "    </tr>\n",
              "    <tr>\n",
              "      <th>956</th>\n",
              "      <td>0</td>\n",
              "      <td>1</td>\n",
              "      <td>0</td>\n",
              "      <td>0</td>\n",
              "      <td>1</td>\n",
              "      <td>1</td>\n",
              "      <td>1</td>\n",
              "      <td>0</td>\n",
              "      <td>1</td>\n",
              "    </tr>\n",
              "    <tr>\n",
              "      <th>957</th>\n",
              "      <td>0</td>\n",
              "      <td>0</td>\n",
              "      <td>1</td>\n",
              "      <td>1</td>\n",
              "      <td>1</td>\n",
              "      <td>0</td>\n",
              "      <td>0</td>\n",
              "      <td>1</td>\n",
              "      <td>1</td>\n",
              "    </tr>\n",
              "  </tbody>\n",
              "</table>\n",
              "<p>958 rows × 9 columns</p>\n",
              "</div>\n",
              "      <button class=\"colab-df-convert\" onclick=\"convertToInteractive('df-2486ecd6-d969-46b1-8eb5-7f2e1c6b4c7f')\"\n",
              "              title=\"Convert this dataframe to an interactive table.\"\n",
              "              style=\"display:none;\">\n",
              "        \n",
              "  <svg xmlns=\"http://www.w3.org/2000/svg\" height=\"24px\"viewBox=\"0 0 24 24\"\n",
              "       width=\"24px\">\n",
              "    <path d=\"M0 0h24v24H0V0z\" fill=\"none\"/>\n",
              "    <path d=\"M18.56 5.44l.94 2.06.94-2.06 2.06-.94-2.06-.94-.94-2.06-.94 2.06-2.06.94zm-11 1L8.5 8.5l.94-2.06 2.06-.94-2.06-.94L8.5 2.5l-.94 2.06-2.06.94zm10 10l.94 2.06.94-2.06 2.06-.94-2.06-.94-.94-2.06-.94 2.06-2.06.94z\"/><path d=\"M17.41 7.96l-1.37-1.37c-.4-.4-.92-.59-1.43-.59-.52 0-1.04.2-1.43.59L10.3 9.45l-7.72 7.72c-.78.78-.78 2.05 0 2.83L4 21.41c.39.39.9.59 1.41.59.51 0 1.02-.2 1.41-.59l7.78-7.78 2.81-2.81c.8-.78.8-2.07 0-2.86zM5.41 20L4 18.59l7.72-7.72 1.47 1.35L5.41 20z\"/>\n",
              "  </svg>\n",
              "      </button>\n",
              "      \n",
              "  <style>\n",
              "    .colab-df-container {\n",
              "      display:flex;\n",
              "      flex-wrap:wrap;\n",
              "      gap: 12px;\n",
              "    }\n",
              "\n",
              "    .colab-df-convert {\n",
              "      background-color: #E8F0FE;\n",
              "      border: none;\n",
              "      border-radius: 50%;\n",
              "      cursor: pointer;\n",
              "      display: none;\n",
              "      fill: #1967D2;\n",
              "      height: 32px;\n",
              "      padding: 0 0 0 0;\n",
              "      width: 32px;\n",
              "    }\n",
              "\n",
              "    .colab-df-convert:hover {\n",
              "      background-color: #E2EBFA;\n",
              "      box-shadow: 0px 1px 2px rgba(60, 64, 67, 0.3), 0px 1px 3px 1px rgba(60, 64, 67, 0.15);\n",
              "      fill: #174EA6;\n",
              "    }\n",
              "\n",
              "    [theme=dark] .colab-df-convert {\n",
              "      background-color: #3B4455;\n",
              "      fill: #D2E3FC;\n",
              "    }\n",
              "\n",
              "    [theme=dark] .colab-df-convert:hover {\n",
              "      background-color: #434B5C;\n",
              "      box-shadow: 0px 1px 3px 1px rgba(0, 0, 0, 0.15);\n",
              "      filter: drop-shadow(0px 1px 2px rgba(0, 0, 0, 0.3));\n",
              "      fill: #FFFFFF;\n",
              "    }\n",
              "  </style>\n",
              "\n",
              "      <script>\n",
              "        const buttonEl =\n",
              "          document.querySelector('#df-2486ecd6-d969-46b1-8eb5-7f2e1c6b4c7f button.colab-df-convert');\n",
              "        buttonEl.style.display =\n",
              "          google.colab.kernel.accessAllowed ? 'block' : 'none';\n",
              "\n",
              "        async function convertToInteractive(key) {\n",
              "          const element = document.querySelector('#df-2486ecd6-d969-46b1-8eb5-7f2e1c6b4c7f');\n",
              "          const dataTable =\n",
              "            await google.colab.kernel.invokeFunction('convertToInteractive',\n",
              "                                                     [key], {});\n",
              "          if (!dataTable) return;\n",
              "\n",
              "          const docLinkHtml = 'Like what you see? Visit the ' +\n",
              "            '<a target=\"_blank\" href=https://colab.research.google.com/notebooks/data_table.ipynb>data table notebook</a>'\n",
              "            + ' to learn more about interactive tables.';\n",
              "          element.innerHTML = '';\n",
              "          dataTable['output_type'] = 'display_data';\n",
              "          await google.colab.output.renderOutput(dataTable, element);\n",
              "          const docLink = document.createElement('div');\n",
              "          docLink.innerHTML = docLinkHtml;\n",
              "          element.appendChild(docLink);\n",
              "        }\n",
              "      </script>\n",
              "    </div>\n",
              "  </div>\n",
              "  "
            ]
          },
          "metadata": {},
          "execution_count": 241
        }
      ]
    },
    {
      "cell_type": "code",
      "source": [
        "# Conjuntos de entrenamiento y testeo para X y Y respectivamente\n",
        "X_train, X_test, y_train, y_test = train_test_split(x_auxiliar, y, test_size=0.3, random_state=0, stratify=y)"
      ],
      "metadata": {
        "id": "FyGNE-YWz-PF"
      },
      "execution_count": 242,
      "outputs": []
    },
    {
      "cell_type": "code",
      "source": [
        "X_train[:1]"
      ],
      "metadata": {
        "colab": {
          "base_uri": "https://localhost:8080/",
          "height": 81
        },
        "id": "b6Rve4ks62kJ",
        "outputId": "a38ae785-2f94-4585-f255-2a5294e72e7b"
      },
      "execution_count": 243,
      "outputs": [
        {
          "output_type": "execute_result",
          "data": {
            "text/plain": [
              "     1  2  3  4  5  6  7  8  9\n",
              "338  0  1  0  2  1  0  1  1  2"
            ],
            "text/html": [
              "\n",
              "  <div id=\"df-3956c623-9f8c-4430-b474-c8344e6d7d70\">\n",
              "    <div class=\"colab-df-container\">\n",
              "      <div>\n",
              "<style scoped>\n",
              "    .dataframe tbody tr th:only-of-type {\n",
              "        vertical-align: middle;\n",
              "    }\n",
              "\n",
              "    .dataframe tbody tr th {\n",
              "        vertical-align: top;\n",
              "    }\n",
              "\n",
              "    .dataframe thead th {\n",
              "        text-align: right;\n",
              "    }\n",
              "</style>\n",
              "<table border=\"1\" class=\"dataframe\">\n",
              "  <thead>\n",
              "    <tr style=\"text-align: right;\">\n",
              "      <th></th>\n",
              "      <th>1</th>\n",
              "      <th>2</th>\n",
              "      <th>3</th>\n",
              "      <th>4</th>\n",
              "      <th>5</th>\n",
              "      <th>6</th>\n",
              "      <th>7</th>\n",
              "      <th>8</th>\n",
              "      <th>9</th>\n",
              "    </tr>\n",
              "  </thead>\n",
              "  <tbody>\n",
              "    <tr>\n",
              "      <th>338</th>\n",
              "      <td>0</td>\n",
              "      <td>1</td>\n",
              "      <td>0</td>\n",
              "      <td>2</td>\n",
              "      <td>1</td>\n",
              "      <td>0</td>\n",
              "      <td>1</td>\n",
              "      <td>1</td>\n",
              "      <td>2</td>\n",
              "    </tr>\n",
              "  </tbody>\n",
              "</table>\n",
              "</div>\n",
              "      <button class=\"colab-df-convert\" onclick=\"convertToInteractive('df-3956c623-9f8c-4430-b474-c8344e6d7d70')\"\n",
              "              title=\"Convert this dataframe to an interactive table.\"\n",
              "              style=\"display:none;\">\n",
              "        \n",
              "  <svg xmlns=\"http://www.w3.org/2000/svg\" height=\"24px\"viewBox=\"0 0 24 24\"\n",
              "       width=\"24px\">\n",
              "    <path d=\"M0 0h24v24H0V0z\" fill=\"none\"/>\n",
              "    <path d=\"M18.56 5.44l.94 2.06.94-2.06 2.06-.94-2.06-.94-.94-2.06-.94 2.06-2.06.94zm-11 1L8.5 8.5l.94-2.06 2.06-.94-2.06-.94L8.5 2.5l-.94 2.06-2.06.94zm10 10l.94 2.06.94-2.06 2.06-.94-2.06-.94-.94-2.06-.94 2.06-2.06.94z\"/><path d=\"M17.41 7.96l-1.37-1.37c-.4-.4-.92-.59-1.43-.59-.52 0-1.04.2-1.43.59L10.3 9.45l-7.72 7.72c-.78.78-.78 2.05 0 2.83L4 21.41c.39.39.9.59 1.41.59.51 0 1.02-.2 1.41-.59l7.78-7.78 2.81-2.81c.8-.78.8-2.07 0-2.86zM5.41 20L4 18.59l7.72-7.72 1.47 1.35L5.41 20z\"/>\n",
              "  </svg>\n",
              "      </button>\n",
              "      \n",
              "  <style>\n",
              "    .colab-df-container {\n",
              "      display:flex;\n",
              "      flex-wrap:wrap;\n",
              "      gap: 12px;\n",
              "    }\n",
              "\n",
              "    .colab-df-convert {\n",
              "      background-color: #E8F0FE;\n",
              "      border: none;\n",
              "      border-radius: 50%;\n",
              "      cursor: pointer;\n",
              "      display: none;\n",
              "      fill: #1967D2;\n",
              "      height: 32px;\n",
              "      padding: 0 0 0 0;\n",
              "      width: 32px;\n",
              "    }\n",
              "\n",
              "    .colab-df-convert:hover {\n",
              "      background-color: #E2EBFA;\n",
              "      box-shadow: 0px 1px 2px rgba(60, 64, 67, 0.3), 0px 1px 3px 1px rgba(60, 64, 67, 0.15);\n",
              "      fill: #174EA6;\n",
              "    }\n",
              "\n",
              "    [theme=dark] .colab-df-convert {\n",
              "      background-color: #3B4455;\n",
              "      fill: #D2E3FC;\n",
              "    }\n",
              "\n",
              "    [theme=dark] .colab-df-convert:hover {\n",
              "      background-color: #434B5C;\n",
              "      box-shadow: 0px 1px 3px 1px rgba(0, 0, 0, 0.15);\n",
              "      filter: drop-shadow(0px 1px 2px rgba(0, 0, 0, 0.3));\n",
              "      fill: #FFFFFF;\n",
              "    }\n",
              "  </style>\n",
              "\n",
              "      <script>\n",
              "        const buttonEl =\n",
              "          document.querySelector('#df-3956c623-9f8c-4430-b474-c8344e6d7d70 button.colab-df-convert');\n",
              "        buttonEl.style.display =\n",
              "          google.colab.kernel.accessAllowed ? 'block' : 'none';\n",
              "\n",
              "        async function convertToInteractive(key) {\n",
              "          const element = document.querySelector('#df-3956c623-9f8c-4430-b474-c8344e6d7d70');\n",
              "          const dataTable =\n",
              "            await google.colab.kernel.invokeFunction('convertToInteractive',\n",
              "                                                     [key], {});\n",
              "          if (!dataTable) return;\n",
              "\n",
              "          const docLinkHtml = 'Like what you see? Visit the ' +\n",
              "            '<a target=\"_blank\" href=https://colab.research.google.com/notebooks/data_table.ipynb>data table notebook</a>'\n",
              "            + ' to learn more about interactive tables.';\n",
              "          element.innerHTML = '';\n",
              "          dataTable['output_type'] = 'display_data';\n",
              "          await google.colab.output.renderOutput(dataTable, element);\n",
              "          const docLink = document.createElement('div');\n",
              "          docLink.innerHTML = docLinkHtml;\n",
              "          element.appendChild(docLink);\n",
              "        }\n",
              "      </script>\n",
              "    </div>\n",
              "  </div>\n",
              "  "
            ]
          },
          "metadata": {},
          "execution_count": 243
        }
      ]
    },
    {
      "cell_type": "code",
      "source": [
        "# Comparamos con el DataFrame original\n",
        "print(f'Cantidad de elementos en el DF original en X: {df.shape[0]}')\n",
        "print(f'Cantidad de elementos de entrenamiento en X: {X_train.shape[0]}')\n",
        "print(f'Cantidad de elementos de testeo en X: {X_test.shape[0]}')"
      ],
      "metadata": {
        "colab": {
          "base_uri": "https://localhost:8080/"
        },
        "id": "pcSZ7SyE0vpu",
        "outputId": "c8140a2a-cb3d-4a61-c74d-2243d6b1b592"
      },
      "execution_count": 244,
      "outputs": [
        {
          "output_type": "stream",
          "name": "stdout",
          "text": [
            "Cantidad de elementos en el DF original en X: 958\n",
            "Cantidad de elementos de entrenamiento en X: 670\n",
            "Cantidad de elementos de testeo en X: 288\n"
          ]
        }
      ]
    },
    {
      "cell_type": "markdown",
      "source": [
        "# Modelo de Red Neuronal"
      ],
      "metadata": {
        "id": "MBH-feWZ1OMa"
      }
    },
    {
      "cell_type": "markdown",
      "source": [
        "Sklearn nos ofrece una utilidad para implementar una Red Neuronal tipo **Clasificador Perceptron Multicapa**.\n",
        "Este modelo optimiza la función de pérdida de registro utilizando LBFGS o descenso de gradiente estocástico.\n",
        "\n",
        "Para su implementación, la utilidad `MLPClassifier` de `sklearn.neural_network`.\n",
        "\n",
        "Las siguientes celdas muestra su implementación en este caso con un manejo de Hiperparámetros sencillos. Si desea amplificarlos puede consultar en: [MLPClassifier](https://scikit-learn.org/stable/modules/generated/sklearn.neural_network.MLPClassifier.html)"
      ],
      "metadata": {
        "id": "tvfVSlxp1Rn9"
      }
    },
    {
      "cell_type": "code",
      "source": [
        "# Llamado de librería\n",
        "from sklearn.neural_network import MLPClassifier"
      ],
      "metadata": {
        "id": "ixdnDfdq2O8Q"
      },
      "execution_count": 245,
      "outputs": []
    },
    {
      "cell_type": "code",
      "source": [
        "# Declaración de nuestra red neuronal\n",
        "model_mlp = MLPClassifier(\n",
        "    hidden_layer_sizes = (60,60,60), # Cantidad de capas ocultas y su respectivo tamaño\n",
        "    max_iter = 1000 # Cantidad máxima de iteraciones en el modelo\n",
        ")"
      ],
      "metadata": {
        "id": "6_7hCXeN1Q2M"
      },
      "execution_count": 246,
      "outputs": []
    },
    {
      "cell_type": "code",
      "source": [
        "# Entrenamiento de nuestro modelo\n",
        "model_mlp.fit(X_train, y_train)"
      ],
      "metadata": {
        "colab": {
          "base_uri": "https://localhost:8080/"
        },
        "id": "2pMM6G_H3MK-",
        "outputId": "3772f916-c48d-4784-9b9a-348ad093bc25"
      },
      "execution_count": 247,
      "outputs": [
        {
          "output_type": "execute_result",
          "data": {
            "text/plain": [
              "MLPClassifier(hidden_layer_sizes=(60, 60, 60), max_iter=1000)"
            ]
          },
          "metadata": {},
          "execution_count": 247
        }
      ]
    },
    {
      "cell_type": "markdown",
      "source": [
        "# Predicción"
      ],
      "metadata": {
        "id": "oHUZdZ673fwX"
      }
    },
    {
      "cell_type": "markdown",
      "source": [
        "Inicialmente podríamos realizar una predicción con los valores de testeo que tenemos, para ello basta con llamar el parámetro `.predict()` y adjutarle estos valores, así:"
      ],
      "metadata": {
        "id": "Y0Ul57c24PCI"
      }
    },
    {
      "cell_type": "code",
      "source": [
        "# Realizamos la predicción de nuestro conjunto de Testeo\n",
        "y_predict= model_mlp.predict(X_test)\n",
        "y_predict"
      ],
      "metadata": {
        "colab": {
          "base_uri": "https://localhost:8080/"
        },
        "id": "UQTzYJgD0bPH",
        "outputId": "addf4c10-db5d-49a2-bdcf-34ac88fc7405"
      },
      "execution_count": 248,
      "outputs": [
        {
          "output_type": "execute_result",
          "data": {
            "text/plain": [
              "array(['negative', 'positive', 'positive', 'positive', 'positive',\n",
              "       'positive', 'negative', 'positive', 'negative', 'positive',\n",
              "       'positive', 'positive', 'negative', 'positive', 'positive',\n",
              "       'positive', 'positive', 'positive', 'negative', 'positive',\n",
              "       'positive', 'positive', 'positive', 'negative', 'negative',\n",
              "       'positive', 'positive', 'positive', 'negative', 'positive',\n",
              "       'positive', 'positive', 'positive', 'positive', 'positive',\n",
              "       'positive', 'negative', 'positive', 'negative', 'negative',\n",
              "       'negative', 'positive', 'negative', 'positive', 'negative',\n",
              "       'positive', 'negative', 'positive', 'positive', 'positive',\n",
              "       'positive', 'positive', 'positive', 'negative', 'negative',\n",
              "       'positive', 'positive', 'negative', 'negative', 'negative',\n",
              "       'positive', 'positive', 'positive', 'negative', 'positive',\n",
              "       'positive', 'negative', 'positive', 'negative', 'positive',\n",
              "       'positive', 'positive', 'negative', 'positive', 'negative',\n",
              "       'negative', 'negative', 'positive', 'positive', 'positive',\n",
              "       'positive', 'positive', 'positive', 'negative', 'positive',\n",
              "       'negative', 'positive', 'positive', 'positive', 'positive',\n",
              "       'positive', 'negative', 'positive', 'negative', 'positive',\n",
              "       'positive', 'positive', 'positive', 'positive', 'positive',\n",
              "       'positive', 'negative', 'negative', 'positive', 'positive',\n",
              "       'positive', 'negative', 'positive', 'positive', 'positive',\n",
              "       'negative', 'positive', 'positive', 'positive', 'positive',\n",
              "       'negative', 'negative', 'positive', 'positive', 'positive',\n",
              "       'positive', 'positive', 'positive', 'positive', 'positive',\n",
              "       'negative', 'negative', 'positive', 'positive', 'positive',\n",
              "       'positive', 'positive', 'positive', 'positive', 'positive',\n",
              "       'negative', 'negative', 'negative', 'negative', 'negative',\n",
              "       'positive', 'negative', 'positive', 'positive', 'positive',\n",
              "       'negative', 'positive', 'positive', 'positive', 'positive',\n",
              "       'positive', 'negative', 'negative', 'positive', 'negative',\n",
              "       'positive', 'positive', 'negative', 'negative', 'positive',\n",
              "       'negative', 'negative', 'negative', 'positive', 'positive',\n",
              "       'positive', 'negative', 'negative', 'positive', 'positive',\n",
              "       'negative', 'positive', 'positive', 'positive', 'positive',\n",
              "       'positive', 'positive', 'positive', 'negative', 'positive',\n",
              "       'positive', 'positive', 'positive', 'negative', 'positive',\n",
              "       'negative', 'negative', 'positive', 'positive', 'negative',\n",
              "       'negative', 'positive', 'negative', 'positive', 'positive',\n",
              "       'positive', 'positive', 'positive', 'positive', 'positive',\n",
              "       'positive', 'negative', 'negative', 'positive', 'positive',\n",
              "       'positive', 'positive', 'negative', 'positive', 'positive',\n",
              "       'positive', 'negative', 'positive', 'positive', 'positive',\n",
              "       'positive', 'negative', 'negative', 'negative', 'negative',\n",
              "       'negative', 'negative', 'negative', 'positive', 'negative',\n",
              "       'positive', 'negative', 'positive', 'negative', 'positive',\n",
              "       'negative', 'negative', 'negative', 'negative', 'positive',\n",
              "       'positive', 'positive', 'negative', 'positive', 'negative',\n",
              "       'negative', 'positive', 'positive', 'positive', 'positive',\n",
              "       'positive', 'positive', 'positive', 'positive', 'negative',\n",
              "       'positive', 'negative', 'positive', 'negative', 'positive',\n",
              "       'positive', 'positive', 'positive', 'negative', 'negative',\n",
              "       'negative', 'positive', 'positive', 'positive', 'positive',\n",
              "       'positive', 'positive', 'positive', 'positive', 'negative',\n",
              "       'positive', 'positive', 'negative', 'positive', 'negative',\n",
              "       'negative', 'negative', 'negative', 'negative', 'positive',\n",
              "       'negative', 'negative', 'negative', 'negative', 'positive',\n",
              "       'negative', 'positive', 'positive'], dtype='<U8')"
            ]
          },
          "metadata": {},
          "execution_count": 248
        }
      ]
    },
    {
      "cell_type": "markdown",
      "source": [
        "Pero también podemos adjuntarle otros valores desconocidos para usar esta red. Para ello basta con agregar los valores en el mismo orden y que sea la misma cantidad total de atributos. Así:"
      ],
      "metadata": {
        "id": "l6u2MYz74eLN"
      }
    },
    {
      "cell_type": "code",
      "source": [
        "# Recordemos las columnas de nuestro DataFrame\n",
        "x_auxiliar.columns.tolist()"
      ],
      "metadata": {
        "colab": {
          "base_uri": "https://localhost:8080/"
        },
        "id": "godXLjlD43wv",
        "outputId": "38093e40-fdf6-47a5-d88c-7618e157ef87"
      },
      "execution_count": 249,
      "outputs": [
        {
          "output_type": "execute_result",
          "data": {
            "text/plain": [
              "['1', '2', '3', '4', '5', '6', '7', '8', '9']"
            ]
          },
          "metadata": {},
          "execution_count": 249
        }
      ]
    },
    {
      "cell_type": "code",
      "source": [
        "# Creamos un arreglo con nuestra información para que el modelo pueda reconocerlo\n",
        "new_info = [[0,2,2,1,0,1,2,1,0]]"
      ],
      "metadata": {
        "id": "8VuEaNHe9l3t"
      },
      "execution_count": 250,
      "outputs": []
    },
    {
      "cell_type": "code",
      "source": [
        "# Eviamos la anterior información para su predicción (método .predict[array] )\n",
        "print(model_mlp.predict(new_info))"
      ],
      "metadata": {
        "colab": {
          "base_uri": "https://localhost:8080/"
        },
        "id": "o4KRZja-6dgd",
        "outputId": "077c8298-0335-40ff-b643-73addbe0a0f6"
      },
      "execution_count": 251,
      "outputs": [
        {
          "output_type": "stream",
          "name": "stdout",
          "text": [
            "['negative']\n"
          ]
        },
        {
          "output_type": "stream",
          "name": "stderr",
          "text": [
            "/usr/local/lib/python3.7/dist-packages/sklearn/base.py:451: UserWarning: X does not have valid feature names, but MLPClassifier was fitted with feature names\n",
            "  \"X does not have valid feature names, but\"\n"
          ]
        }
      ]
    },
    {
      "cell_type": "code",
      "source": [
        "# Creamos un arreglo con nuestra información para que el modelo pueda reconocerlo\n",
        "new_info = [[1,2,2,0,1,0,2,0,1]]"
      ],
      "metadata": {
        "id": "2jyGcWj49pGZ"
      },
      "execution_count": 252,
      "outputs": []
    },
    {
      "cell_type": "code",
      "source": [
        "# Eviamos la anterior información para su predicción (método .predict[array] )\n",
        "print(model_mlp.predict(new_info))"
      ],
      "metadata": {
        "colab": {
          "base_uri": "https://localhost:8080/"
        },
        "id": "-pBPj0kB9qBx",
        "outputId": "7cf70c5a-07a9-4167-debf-4702e43f4b4a"
      },
      "execution_count": 253,
      "outputs": [
        {
          "output_type": "stream",
          "name": "stdout",
          "text": [
            "['positive']\n"
          ]
        },
        {
          "output_type": "stream",
          "name": "stderr",
          "text": [
            "/usr/local/lib/python3.7/dist-packages/sklearn/base.py:451: UserWarning: X does not have valid feature names, but MLPClassifier was fitted with feature names\n",
            "  \"X does not have valid feature names, but\"\n"
          ]
        }
      ]
    },
    {
      "cell_type": "markdown",
      "source": [
        "# Evaluación"
      ],
      "metadata": {
        "id": "e4w96K1B90wu"
      }
    },
    {
      "cell_type": "markdown",
      "source": [
        "Existen diversas formas de evaluar el modelo. En este caso evaluaremos el score, la matriz de confusión y la gráfica de pérdida"
      ],
      "metadata": {
        "id": "3p4HOJ67-lht"
      }
    },
    {
      "cell_type": "markdown",
      "source": [
        "Primero, el método `.score()` nos permite obtener la exactitud media. Es inispensable enviarle el conjunto de testeo, tanto de X como de y"
      ],
      "metadata": {
        "id": "GqoyTo74-wEh"
      }
    },
    {
      "cell_type": "code",
      "source": [
        "model_mlp.score(X_test, y_test)"
      ],
      "metadata": {
        "colab": {
          "base_uri": "https://localhost:8080/"
        },
        "id": "EoYdgt5u6dL6",
        "outputId": "e3860a02-9d10-4809-81b4-e6f4c64cd9e0"
      },
      "execution_count": 254,
      "outputs": [
        {
          "output_type": "execute_result",
          "data": {
            "text/plain": [
              "0.9479166666666666"
            ]
          },
          "metadata": {},
          "execution_count": 254
        }
      ]
    },
    {
      "cell_type": "markdown",
      "source": [
        "Por otra parte, la matriz de confusión es una herramienta que nos permitirá permite visualizar el desempeño de este algoritmo.\n",
        "\n",
        "Las utilidades `classification_report` y `confusion_matrix` del paquete `sklearn.metrics` nos permitirá evaluar este modelo mediante nuestro resultado de predicciones y el conjunto de información para testeo."
      ],
      "metadata": {
        "id": "mWTh0Z02-7hn"
      }
    },
    {
      "cell_type": "code",
      "source": [
        "# Importación de la libreria\n",
        "from sklearn.metrics import classification_report, confusion_matrix"
      ],
      "metadata": {
        "id": "2f8fMXLI-dio"
      },
      "execution_count": 255,
      "outputs": []
    },
    {
      "cell_type": "code",
      "source": [
        "# Visualizacmos la matriz de confusión\n",
        "print(confusion_matrix( y_test, y_predict))"
      ],
      "metadata": {
        "colab": {
          "base_uri": "https://localhost:8080/"
        },
        "id": "Qkq51Nl8_u4o",
        "outputId": "4b21609e-7ae1-4ee6-cdae-cb9ccbdfa37d"
      },
      "execution_count": 256,
      "outputs": [
        {
          "output_type": "stream",
          "name": "stdout",
          "text": [
            "[[ 94   6]\n",
            " [  9 179]]\n"
          ]
        }
      ]
    },
    {
      "cell_type": "code",
      "source": [
        "# Visualización del reporte de clasificación\n",
        "print(classification_report( y_test, y_predict))"
      ],
      "metadata": {
        "colab": {
          "base_uri": "https://localhost:8080/"
        },
        "id": "PqfVMcks_uh-",
        "outputId": "ee525884-1299-42ba-c420-911b6b1c73fb"
      },
      "execution_count": 257,
      "outputs": [
        {
          "output_type": "stream",
          "name": "stdout",
          "text": [
            "              precision    recall  f1-score   support\n",
            "\n",
            "    negative       0.91      0.94      0.93       100\n",
            "    positive       0.97      0.95      0.96       188\n",
            "\n",
            "    accuracy                           0.95       288\n",
            "   macro avg       0.94      0.95      0.94       288\n",
            "weighted avg       0.95      0.95      0.95       288\n",
            "\n"
          ]
        }
      ]
    },
    {
      "cell_type": "markdown",
      "source": [
        "Para finalizar podríamos observar la gráfica de pérdida. La dea es obtener una buena curva que sea lo más cercana a 0.\n",
        "\n",
        "Para interpretar esta y otras curvas puede visitar: [Interpreta las curvas de pérdida](https://developers.google.com/machine-learning/testing-debugging/metrics/interpretic)"
      ],
      "metadata": {
        "id": "ydCrhw8TAX2m"
      }
    },
    {
      "cell_type": "code",
      "source": [
        "# Guardamos la información de la curva de pérdida que nos ofrece el modelo\n",
        "loss_curve = model_mlp.loss_curve_"
      ],
      "metadata": {
        "id": "pPVOz0GQA602"
      },
      "execution_count": 258,
      "outputs": []
    },
    {
      "cell_type": "code",
      "source": [
        "# Observamos el tamaño, coincide con nuestro número de iteraciones\n",
        "len(loss_curve)"
      ],
      "metadata": {
        "colab": {
          "base_uri": "https://localhost:8080/"
        },
        "id": "D4C0YRoHAXiU",
        "outputId": "e95fc7b0-03de-4698-c8df-5e4f22029250"
      },
      "execution_count": 259,
      "outputs": [
        {
          "output_type": "execute_result",
          "data": {
            "text/plain": [
              "169"
            ]
          },
          "metadata": {},
          "execution_count": 259
        }
      ]
    },
    {
      "cell_type": "code",
      "source": [
        "# Visualizamos sencillamente\n",
        "import matplotlib.pyplot as plt\n",
        "\n",
        "plt.plot(loss_curve)\n",
        "plt.show()"
      ],
      "metadata": {
        "colab": {
          "base_uri": "https://localhost:8080/",
          "height": 266
        },
        "id": "tiDcsk6mAKAY",
        "outputId": "1fdb678d-6c8d-4754-ce57-f9fc29764c21"
      },
      "execution_count": 260,
      "outputs": [
        {
          "output_type": "display_data",
          "data": {
            "text/plain": [
              "<Figure size 432x288 with 1 Axes>"
            ],
            "image/png": "[encoded data removed]"
          },
          "metadata": {
            "needs_background": "light"
          }
        }
      ]
    },
    {
      "cell_type": "markdown",
      "source": [
        "No menos importante, el método `.get_params()` nos permitirá ver todos aquellos los hiperparámetros con los que funciona nuestra red neuronal."
      ],
      "metadata": {
        "id": "wtu8S_YkBavD"
      }
    },
    {
      "cell_type": "code",
      "source": [
        "model_mlp.get_params()"
      ],
      "metadata": {
        "colab": {
          "base_uri": "https://localhost:8080/"
        },
        "id": "kC2J7jN-AJQW",
        "outputId": "34950f6e-661d-4981-8a35-10cd2c888a54"
      },
      "execution_count": 261,
      "outputs": [
        {
          "output_type": "execute_result",
          "data": {
            "text/plain": [
              "{'activation': 'relu',\n",
              " 'alpha': 0.0001,\n",
              " 'batch_size': 'auto',\n",
              " 'beta_1': 0.9,\n",
              " 'beta_2': 0.999,\n",
              " 'early_stopping': False,\n",
              " 'epsilon': 1e-08,\n",
              " 'hidden_layer_sizes': (60, 60, 60),\n",
              " 'learning_rate': 'constant',\n",
              " 'learning_rate_init': 0.001,\n",
              " 'max_fun': 15000,\n",
              " 'max_iter': 1000,\n",
              " 'momentum': 0.9,\n",
              " 'n_iter_no_change': 10,\n",
              " 'nesterovs_momentum': True,\n",
              " 'power_t': 0.5,\n",
              " 'random_state': None,\n",
              " 'shuffle': True,\n",
              " 'solver': 'adam',\n",
              " 'tol': 0.0001,\n",
              " 'validation_fraction': 0.1,\n",
              " 'verbose': False,\n",
              " 'warm_start': False}"
            ]
          },
          "metadata": {},
          "execution_count": 261
        }
      ]
    }
  ]
}